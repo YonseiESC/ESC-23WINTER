{
 "cells": [
  {
   "cell_type": "markdown",
   "id": "d06e77f8",
   "metadata": {},
   "source": [
    "# Julia Tutorial\n",
    "\n",
    "## Contents\n",
    "1. 설치 방법과 패키지\n",
    "2. 기본 문법과 데이터 타입 I\n",
    "3. 데이터 타입 II\n",
    "4. 연습문제들\n",
    "5. Convex.jl\n",
    "\n",
    "이 문서는 https://julia.quantecon.org/intro.html 를 참고해 만들어졌습니다.  \n",
    "이 문서 외에 줄리아의 시스템적인 부분에 대해 더 궁금하시다면 https://docs.julialang.org/en/v1/(공식 매뉴얼)을 참고하시기 바랍니다."
   ]
  },
  {
   "cell_type": "markdown",
   "id": "fd72b536",
   "metadata": {},
   "source": [
    "# 1. 설치와 주피터 노트북 연결\n",
    "만약 jupyter notebook이 설치되지 않았다면 https://www.anaconda.com/ 에서 anaconda를 먼저 다운로드 받고, 기본 환경을 세팅한 다음 진행해 주세요."
   ]
  },
  {
   "cell_type": "markdown",
   "id": "cb3f22ba",
   "metadata": {},
   "source": [
    "https://julialang.org/ 에서 자신의 컴퓨터에 맞는 버전을 다운로드 받는다."
   ]
  },
  {
   "cell_type": "markdown",
   "id": "e56ce411",
   "metadata": {},
   "source": [
    "<center><img src = \"julia1.png\" width = \"500\" height = \"500\"></center>  "
   ]
  },
  {
   "cell_type": "markdown",
   "id": "f2aeb7e4",
   "metadata": {},
   "source": [
    "실행시킨 뒤 다음과 같이 잘 작동되는지 확인한다. `exit()`을 입력하면 줄리아가 종료된다."
   ]
  },
  {
   "cell_type": "markdown",
   "id": "c711702e",
   "metadata": {},
   "source": [
    "## 패키지\n",
    "줄리아에는 패키지 관리자 역할을 하는 Pkg라는 패키지가 있다. 문자 `]`를 입력하면 줄리아 REPL(대화창): `>Julia`에서 Pkg 내부의 REPL: `>Pkg`로 넘어간다. `백스페이스`를 누르면 원래 줄리아의 REPL로 다시 넘어간다.   \n",
    "`Pkg> status`를 입력하면 설치된 패키지의 목록을 확인할 수 있다.  \n",
    "패키지를 설치하고 싶으면 `Pkg> add 패키지명` 으로 설치한다. 주피터 노트북 상에서는 `] add 패키지명`으로 입력하면 된다.\n",
    "`Julia> using 패키지명` 을 입력하면 R에서 library를 하는 것처럼 설치된 패키지를 불러올 수 있다. "
   ]
  },
  {
   "cell_type": "markdown",
   "id": "acad649f",
   "metadata": {},
   "source": [
    "<center><img src = \"julia2.png\" width = \"500\" height = \"500\"></center>  "
   ]
  },
  {
   "cell_type": "markdown",
   "id": "34a84cfc",
   "metadata": {},
   "source": [
    "## 주피터 노트북과 연결하기\n",
    "줄리아를 jupyter notebook에서 사용하는 방법은 간단하다.\n",
    "<center><img src = \"julia3.png\" width = \"500\" height = \"500\"></center>  "
   ]
  },
  {
   "cell_type": "markdown",
   "id": "39043b3d",
   "metadata": {},
   "source": [
    "`Pkg> add IJulia`를 입력해 IJulia 패키지를 설치하면 줄리아와 주피터 노트북이 자동으로 연결된다. 주피터 노트북을 실행하고 ipynb파일을 열 때, 커널을 기존의 Python 대신 Julia 1.8.5로 선택하면 된다."
   ]
  },
  {
   "cell_type": "markdown",
   "id": "c163de5d",
   "metadata": {},
   "source": [
    "*만약 IJulia를 설치했는데, 주피터 노트북에서 커널이 제대로 동작하지 않을 경우 다음 방법으로 해결할 수 있다.  \n",
    "에러 메시지: kernel error (\"Failed to precompile in IJulia\")  \n",
    "\n",
    "1. 명령 프롬프트에서  \n",
    "`rm -rfd ~/.julia/compiled` \n",
    "    \n",
    "2. 줄리아 REPL에서  \n",
    "`using Pkg`  \n",
    "`Pkg.update()`  \n",
    "`Pkg.precompile()`  \n",
    "    \n",
    "3. 줄리아 REPL에서   \n",
    "`using IJulia`  \n",
    "`installkernel(\"Julia\")`"
   ]
  },
  {
   "cell_type": "markdown",
   "id": "46fba317",
   "metadata": {},
   "source": [
    "# 2. 기본 문법, 데이터 타입 I"
   ]
  },
  {
   "cell_type": "markdown",
   "id": "e20751a9",
   "metadata": {},
   "source": [
    "기본적인 문법은 Python과 거의 동일해 어렵지 않지만, 약간씩 다른 점에 주목해 읽어 보면 좋다."
   ]
  },
  {
   "cell_type": "code",
   "execution_count": null,
   "id": "7e30a448",
   "metadata": {},
   "outputs": [],
   "source": [
    "using LinearAlgebra, Statistics, Plots"
   ]
  },
  {
   "cell_type": "markdown",
   "id": "3337a8f5",
   "metadata": {},
   "source": [
    "## Primitive Data Types\n",
    "### boolean, float, int, complex\n",
    "매우 익숙한 형태이다."
   ]
  },
  {
   "cell_type": "code",
   "execution_count": null,
   "id": "9470bbe5",
   "metadata": {},
   "outputs": [],
   "source": [
    "x = true"
   ]
  },
  {
   "cell_type": "code",
   "execution_count": null,
   "id": "4d809d44",
   "metadata": {},
   "outputs": [],
   "source": [
    "typeof(x)"
   ]
  },
  {
   "cell_type": "code",
   "execution_count": null,
   "id": "7d5c32bb",
   "metadata": {},
   "outputs": [],
   "source": [
    "y = 1 > 2"
   ]
  },
  {
   "cell_type": "code",
   "execution_count": null,
   "id": "86b602c8",
   "metadata": {},
   "outputs": [],
   "source": [
    "x = 2; y = 1.0;"
   ]
  },
  {
   "cell_type": "markdown",
   "id": "7982d717",
   "metadata": {},
   "source": [
    " `;` 는 출력을 보이지 않게 하거나 여러 변수를 함께 선언할 때 쓰인다."
   ]
  },
  {
   "cell_type": "code",
   "execution_count": null,
   "id": "07acf46b",
   "metadata": {},
   "outputs": [],
   "source": [
    "x = 1 + 2im; y = 1 - 2im;"
   ]
  },
  {
   "cell_type": "code",
   "execution_count": null,
   "id": "1d3e8b37",
   "metadata": {},
   "outputs": [],
   "source": [
    "x * y "
   ]
  },
  {
   "cell_type": "code",
   "execution_count": null,
   "id": "032b5643",
   "metadata": {},
   "outputs": [],
   "source": [
    "2x - 3y"
   ]
  },
  {
   "cell_type": "markdown",
   "id": "6022175b",
   "metadata": {},
   "source": [
    "다항식을 쓸 때, `*` 를 생략 가능하다."
   ]
  },
  {
   "cell_type": "code",
   "execution_count": null,
   "id": "af65959c",
   "metadata": {},
   "outputs": [],
   "source": [
    "@show 2x - 3y\n",
    "@show x + y;"
   ]
  },
  {
   "cell_type": "markdown",
   "id": "6ae1b31f",
   "metadata": {},
   "source": [
    "`@show`를 통해 `print`를 쓰듯 출력을 전부 보이게 할 수 있다."
   ]
  },
  {
   "cell_type": "markdown",
   "id": "0077b66c",
   "metadata": {},
   "source": [
    "### Strings\n",
    "`\"`로 정의한다."
   ]
  },
  {
   "cell_type": "code",
   "execution_count": null,
   "id": "3fcc87d5",
   "metadata": {},
   "outputs": [],
   "source": [
    "x = \"foobar\"; typeof(x)"
   ]
  },
  {
   "cell_type": "markdown",
   "id": "987602b3",
   "metadata": {},
   "source": [
    "문자열 포맷팅도 파이썬과 동일하게 가능하다."
   ]
  },
  {
   "cell_type": "code",
   "execution_count": null,
   "id": "9d716a78",
   "metadata": {},
   "outputs": [],
   "source": [
    "x = 10; y = 20;"
   ]
  },
  {
   "cell_type": "code",
   "execution_count": null,
   "id": "9e5c6be4",
   "metadata": {},
   "outputs": [],
   "source": [
    "\"x + y = $(x + y)\""
   ]
  },
  {
   "cell_type": "markdown",
   "id": "23e0fa72",
   "metadata": {},
   "source": [
    "아래와 같은 전용 함수들 역시 비교적 익숙한 형태이다."
   ]
  },
  {
   "cell_type": "code",
   "execution_count": null,
   "id": "be61e93a",
   "metadata": {},
   "outputs": [],
   "source": [
    "\"foo\" * \"bar\" #서로 붙일 때 +가 아닌 *를 사용"
   ]
  },
  {
   "cell_type": "code",
   "execution_count": null,
   "id": "f74154dd",
   "metadata": {},
   "outputs": [],
   "source": [
    "s = \"Charlie don't surf\""
   ]
  },
  {
   "cell_type": "code",
   "execution_count": null,
   "id": "dd644e17",
   "metadata": {},
   "outputs": [],
   "source": [
    "split(s)"
   ]
  },
  {
   "cell_type": "code",
   "execution_count": null,
   "id": "5535e70d",
   "metadata": {},
   "outputs": [],
   "source": [
    "replace(s, \"surf\" => \"ski\")"
   ]
  },
  {
   "cell_type": "code",
   "execution_count": null,
   "id": "be326cfc",
   "metadata": {},
   "outputs": [],
   "source": [
    "split(\"fee,fi,fo\", \",\")"
   ]
  },
  {
   "cell_type": "code",
   "execution_count": null,
   "id": "51405b01",
   "metadata": {},
   "outputs": [],
   "source": [
    "strip(\" foobar \")  # 공백 지우기"
   ]
  },
  {
   "cell_type": "markdown",
   "id": "a4253cd5",
   "metadata": {},
   "source": [
    "### containers\n",
    "Tuple은 immutable(내부 수정 불가)하고, 여러 타입의 원소를 동시에 포함할 수 있다."
   ]
  },
  {
   "cell_type": "code",
   "execution_count": null,
   "id": "91a4b25c",
   "metadata": {},
   "outputs": [],
   "source": [
    "x = (\"foo\", \"bar\")\n",
    "y = (\"foo\", 2);"
   ]
  },
  {
   "cell_type": "code",
   "execution_count": null,
   "id": "f07bb53c",
   "metadata": {},
   "outputs": [],
   "source": [
    "typeof(x), typeof(y)"
   ]
  },
  {
   "cell_type": "markdown",
   "id": "3aa6581b",
   "metadata": {},
   "source": [
    "괄호 없이 생성 가능하며, 각각의 원소를 변수로 취급할 수 있다."
   ]
  },
  {
   "cell_type": "code",
   "execution_count": null,
   "id": "a1a39181",
   "metadata": {},
   "outputs": [],
   "source": [
    "x = \"foo\", 1"
   ]
  },
  {
   "cell_type": "code",
   "execution_count": null,
   "id": "4ef3ee14",
   "metadata": {},
   "outputs": [],
   "source": [
    "word, val = x\n",
    "println(\"word = $word, val = $val\")"
   ]
  },
  {
   "cell_type": "markdown",
   "id": "398b0f3f",
   "metadata": {},
   "source": [
    "`println()`은 `print()`뒤에 줄바꿈을 추가한다."
   ]
  },
  {
   "cell_type": "markdown",
   "id": "38515db7",
   "metadata": {},
   "source": [
    "가장 기본적인 container인 array 역시 list와 같이 익숙하지만, Python과 다른 점은 Julia에서는 인덱스가 1부터 시작하고, 슬라이싱을 할 때 마지막 번호까지 포함한다는 것이다. 또 마지막 원소에 접근할 때는 `end`를 사용하면 된다."
   ]
  },
  {
   "cell_type": "code",
   "execution_count": null,
   "id": "e82f4d47",
   "metadata": {},
   "outputs": [],
   "source": [
    "x = [10, 20, 30, 40]"
   ]
  },
  {
   "cell_type": "code",
   "execution_count": null,
   "id": "d63ec02e",
   "metadata": {},
   "outputs": [],
   "source": [
    "x[end]"
   ]
  },
  {
   "cell_type": "code",
   "execution_count": null,
   "id": "6a57d192",
   "metadata": {},
   "outputs": [],
   "source": [
    "x[end-1]"
   ]
  },
  {
   "cell_type": "code",
   "execution_count": null,
   "id": "4f55a009",
   "metadata": {},
   "outputs": [],
   "source": [
    "x[1:3]"
   ]
  },
  {
   "cell_type": "code",
   "execution_count": null,
   "id": "7798f9be",
   "metadata": {},
   "outputs": [],
   "source": [
    "x[2:end]"
   ]
  },
  {
   "cell_type": "code",
   "execution_count": null,
   "id": "3362ff88",
   "metadata": {},
   "outputs": [],
   "source": [
    "\"foobar\"[3:end]"
   ]
  },
  {
   "cell_type": "markdown",
   "id": "4487d1b5",
   "metadata": {},
   "source": [
    "Dictionary"
   ]
  },
  {
   "cell_type": "code",
   "execution_count": null,
   "id": "c5b3bf66",
   "metadata": {},
   "outputs": [],
   "source": [
    "d = Dict(\"name\" => \"Frodo\", \"age\" => 33)"
   ]
  },
  {
   "cell_type": "code",
   "execution_count": null,
   "id": "06650e93",
   "metadata": {},
   "outputs": [],
   "source": [
    "d[\"age\"]"
   ]
  },
  {
   "cell_type": "code",
   "execution_count": null,
   "id": "c12ac351",
   "metadata": {},
   "outputs": [],
   "source": [
    "@show keys(d)\n",
    "@show values(d);"
   ]
  },
  {
   "cell_type": "code",
   "execution_count": null,
   "id": "40bef2f2",
   "metadata": {},
   "outputs": [],
   "source": [
    "collect(keys(d))"
   ]
  },
  {
   "cell_type": "markdown",
   "id": "440adc75",
   "metadata": {},
   "source": [
    "key들을 array로 만들 수 있다."
   ]
  },
  {
   "cell_type": "markdown",
   "id": "f45f4cb4",
   "metadata": {},
   "source": [
    "## Iterating\n",
    "반복문의 경우 `for i in ~` 뒤에 `:`를 쓰지 않고, 끝 부분에 `end`로 반드시 닫아 주어야 한다."
   ]
  },
  {
   "cell_type": "code",
   "execution_count": null,
   "id": "864a435c",
   "metadata": {},
   "outputs": [],
   "source": [
    "actions = [\"surf\", \"ski\"]\n",
    "for action in actions\n",
    "    println(\"Charlie doesn't $action\")\n",
    "end"
   ]
  },
  {
   "cell_type": "code",
   "execution_count": null,
   "id": "b882b5ed",
   "metadata": {},
   "outputs": [],
   "source": [
    "for i in 1:3\n",
    "    print(i)\n",
    "end"
   ]
  },
  {
   "cell_type": "markdown",
   "id": "012f1772",
   "metadata": {},
   "source": [
    "i번째 원소에 접근하는 방식을 택할 수도, 원소 하나하나에 직접 접근하는 방식을 택할 수도 있다."
   ]
  },
  {
   "cell_type": "code",
   "execution_count": null,
   "id": "7650de3c",
   "metadata": {},
   "outputs": [],
   "source": [
    "x_values = 1:5"
   ]
  },
  {
   "cell_type": "code",
   "execution_count": null,
   "id": "88dd467c",
   "metadata": {},
   "outputs": [],
   "source": [
    "for x in x_values\n",
    "    println(x * x)\n",
    "end"
   ]
  },
  {
   "cell_type": "code",
   "execution_count": null,
   "id": "4ce51e6f",
   "metadata": {},
   "outputs": [],
   "source": [
    "for i in eachindex(x_values)\n",
    "    println(x_values[i] * x_values[i])\n",
    "end"
   ]
  },
  {
   "cell_type": "markdown",
   "id": "23c55efc",
   "metadata": {},
   "source": [
    "`zip()`과 `enumerate()`역시 사용 가능하다."
   ]
  },
  {
   "cell_type": "code",
   "execution_count": null,
   "id": "94b76e4a",
   "metadata": {},
   "outputs": [],
   "source": [
    "countries = (\"Japan\", \"Korea\", \"China\")\n",
    "cities = (\"Tokyo\", \"Seoul\", \"Beijing\")\n",
    "for (country, city) in zip(countries, cities)\n",
    "    println(\"The capital of $country is $city\")\n",
    "end"
   ]
  },
  {
   "cell_type": "code",
   "execution_count": null,
   "id": "1b0c0cea",
   "metadata": {},
   "outputs": [],
   "source": [
    "countries = (\"Japan\", \"Korea\", \"China\")\n",
    "cities = (\"Tokyo\", \"Seoul\", \"Beijing\")\n",
    "for (i, country) in enumerate(countries)\n",
    "    city = cities[i]\n",
    "    println(\"The capital of $country is $city\")\n",
    "end"
   ]
  },
  {
   "cell_type": "markdown",
   "id": "22c55b8c",
   "metadata": {},
   "source": [
    "### Comprehensions\n",
    "매우 편리하고 유려한 방법이다."
   ]
  },
  {
   "cell_type": "code",
   "execution_count": null,
   "id": "b72d7cec",
   "metadata": {},
   "outputs": [],
   "source": [
    "doubles = [ 2i for i in 1:4 ]"
   ]
  },
  {
   "cell_type": "markdown",
   "id": "3c2e3653",
   "metadata": {},
   "source": [
    "iterable이 2D 이상일 때, element wise하게 더하는 것이 아니라 모든 순서쌍에 대해 전부 더해지는 것에 유의하자."
   ]
  },
  {
   "cell_type": "code",
   "execution_count": null,
   "id": "a86b10ab",
   "metadata": {},
   "outputs": [],
   "source": [
    "[ i + j for i in 1:3, j in 4:6 ]"
   ]
  },
  {
   "cell_type": "code",
   "execution_count": null,
   "id": "30666f8e",
   "metadata": {},
   "outputs": [],
   "source": [
    "[ i + j + k for i in 1:3, j in 4:6, k in 7:9 ]"
   ]
  },
  {
   "cell_type": "markdown",
   "id": "8e364187",
   "metadata": {},
   "source": [
    "다음처럼 tuple이 들어간 array를 생성할 수도 있다."
   ]
  },
  {
   "cell_type": "code",
   "execution_count": null,
   "id": "d13645af",
   "metadata": {},
   "outputs": [],
   "source": [
    "animals = [\"dog\", \"cat\", \"bird\"]"
   ]
  },
  {
   "cell_type": "code",
   "execution_count": null,
   "id": "9ca3b64c",
   "metadata": {},
   "outputs": [],
   "source": [
    "[ (num = i, animal = j) for i in 1:2, j in animals]"
   ]
  },
  {
   "cell_type": "markdown",
   "id": "e688155c",
   "metadata": {},
   "source": [
    "### Generators\n",
    "반복 객체(iterable)를 명시적인 객체(array)로 만들지 않으면 속도가 빨라지는 장점이 있다."
   ]
  },
  {
   "cell_type": "code",
   "execution_count": null,
   "id": "51d2e8bd",
   "metadata": {},
   "outputs": [],
   "source": [
    "xs = 1:10000\n",
    "f(x) = x^2\n",
    "f_x = f.(xs)\n",
    "sum(f_x)"
   ]
  },
  {
   "cell_type": "markdown",
   "id": "8ceed64e",
   "metadata": {},
   "source": [
    "`.`을 사용해 xs의 원소 각각에 f를 적용해 제곱하고 합을 구한다. 이렇게 하면 `f_x` array를 중간에 임시로 생성해야 한다. "
   ]
  },
  {
   "cell_type": "code",
   "execution_count": null,
   "id": "7baf0d1b",
   "metadata": {},
   "outputs": [],
   "source": [
    "f_x2 = [f(x) for x in xs]\n",
    "@show sum(f_x2)\n",
    "@show sum([f(x) for x in xs]); # still allocates temporary"
   ]
  },
  {
   "cell_type": "markdown",
   "id": "809466ef",
   "metadata": {},
   "source": [
    "comprehension을 사용하더라도 중간에 임시적인 array를 생성해야 한다."
   ]
  },
  {
   "cell_type": "code",
   "execution_count": null,
   "id": "60d0ecc7",
   "metadata": {},
   "outputs": [],
   "source": [
    "using BenchmarkTools\n",
    "@btime sum([f(x) for x in $xs])\n",
    "@btime sum(f.($xs))\n",
    "@btime sum(f(x) for x in $xs);"
   ]
  },
  {
   "cell_type": "markdown",
   "id": "6399a605",
   "metadata": {},
   "source": [
    "임시 array를 생성하지 않고, 3번째 줄처럼 f(x)를 생성하는 즉시 더하는 방식으로 코드를 짜면 1,000배 이상 빨라진다."
   ]
  },
  {
   "cell_type": "markdown",
   "id": "134eb3fd",
   "metadata": {},
   "source": [
    "## Operators"
   ]
  },
  {
   "cell_type": "markdown",
   "id": "1c1e6694",
   "metadata": {},
   "source": [
    "Python과 거의 동일하다."
   ]
  },
  {
   "cell_type": "code",
   "execution_count": null,
   "id": "50b6b24c",
   "metadata": {},
   "outputs": [],
   "source": [
    "x = 1"
   ]
  },
  {
   "cell_type": "code",
   "execution_count": null,
   "id": "e654d9fe",
   "metadata": {},
   "outputs": [],
   "source": [
    "x == 2"
   ]
  },
  {
   "cell_type": "code",
   "execution_count": null,
   "id": "b69471f9",
   "metadata": {},
   "outputs": [],
   "source": [
    "x != 3"
   ]
  },
  {
   "cell_type": "code",
   "execution_count": null,
   "id": "51eb5f3a",
   "metadata": {},
   "outputs": [],
   "source": [
    "1 + 1E-8 ≈ 1"
   ]
  },
  {
   "cell_type": "markdown",
   "id": "e1f1fe32",
   "metadata": {},
   "source": [
    "`\\approx`를 입력하고 `<TAB>`을 입력하면 대략적인 값을 비교하는 ≈ 연산자가 된다."
   ]
  },
  {
   "cell_type": "code",
   "execution_count": null,
   "id": "26a8a6a9",
   "metadata": {},
   "outputs": [],
   "source": [
    "true && false"
   ]
  },
  {
   "cell_type": "code",
   "execution_count": null,
   "id": "a495baaf",
   "metadata": {},
   "outputs": [],
   "source": [
    "true || false"
   ]
  },
  {
   "cell_type": "markdown",
   "id": "ced4f876",
   "metadata": {},
   "source": [
    "and와 or는 두 개씩 입력해야 한다."
   ]
  },
  {
   "cell_type": "markdown",
   "id": "2d55be68",
   "metadata": {},
   "source": [
    "## Functions\n",
    "입력값의 타입은 number, string, array, function 등이 모두 가능하다. 함수를 만들 때에도 반복문처럼 끝에 `end`로 반드시 닫아 주어야 한다."
   ]
  },
  {
   "cell_type": "code",
   "execution_count": null,
   "id": "8432b362",
   "metadata": {},
   "outputs": [],
   "source": [
    "function foo(x)\n",
    "    if x > 0\n",
    "        return \"positive\"\n",
    "    end\n",
    "    return \"nonpositive\"\n",
    "end"
   ]
  },
  {
   "cell_type": "markdown",
   "id": "f138f45b",
   "metadata": {},
   "source": [
    "다만 Python의 lambda처럼 간단한 함수는 아래와 같이 만들 수도 있다."
   ]
  },
  {
   "cell_type": "code",
   "execution_count": null,
   "id": "d0b0e029",
   "metadata": {},
   "outputs": [],
   "source": [
    "f(x) = sin(1 / x)"
   ]
  },
  {
   "cell_type": "code",
   "execution_count": null,
   "id": "e3a7b716",
   "metadata": {},
   "outputs": [],
   "source": [
    "f(1 / pi)"
   ]
  },
  {
   "cell_type": "markdown",
   "id": "d3b72851",
   "metadata": {},
   "source": [
    "`map`을 이용해 주어진 원소 각각에 직접적으로 적용할 수도 있다."
   ]
  },
  {
   "cell_type": "code",
   "execution_count": null,
   "id": "5ff222b8",
   "metadata": {},
   "outputs": [],
   "source": [
    "map(x -> sin(1 / x), randn(3))"
   ]
  },
  {
   "cell_type": "markdown",
   "id": "70410191",
   "metadata": {},
   "source": [
    "### keyword arguments"
   ]
  },
  {
   "cell_type": "markdown",
   "id": "6300c107",
   "metadata": {},
   "source": [
    "함수의 입력값에 default 값을 지정할 수 있다."
   ]
  },
  {
   "cell_type": "code",
   "execution_count": null,
   "id": "b22d4dcd",
   "metadata": {},
   "outputs": [],
   "source": [
    "f(x, a = 1) = exp(cos(a * x))"
   ]
  },
  {
   "cell_type": "code",
   "execution_count": null,
   "id": "765255ee",
   "metadata": {},
   "outputs": [],
   "source": [
    "f(pi)"
   ]
  },
  {
   "cell_type": "code",
   "execution_count": null,
   "id": "2b749f3c",
   "metadata": {},
   "outputs": [],
   "source": [
    "f(pi, 2)"
   ]
  },
  {
   "cell_type": "markdown",
   "id": "b49fc2d2",
   "metadata": {},
   "source": [
    "기본 argument 외에 keyword argument를 사용할 수 있는데, 이것은 순서에 상관없이 keyword에 걸리는 입력값이다. `;`뒤에 parameter의 이름을 지정해야 한다."
   ]
  },
  {
   "cell_type": "code",
   "execution_count": null,
   "id": "8d6aa958",
   "metadata": {},
   "outputs": [],
   "source": [
    "f(x; a) = exp(cos(a * x)) \n",
    "f(pi; a = 2)"
   ]
  },
  {
   "cell_type": "markdown",
   "id": "4d076aec",
   "metadata": {},
   "source": [
    "함수 외부에서 정의된 변수나, named tuple안의 원소 이름이 함수를 정의할 때 사용한 keyword와 같으면 함수의 입력값으로 사용할 수 있다."
   ]
  },
  {
   "cell_type": "code",
   "execution_count": null,
   "id": "5c59a508",
   "metadata": {},
   "outputs": [],
   "source": [
    "nt = (;a=3, b=10)"
   ]
  },
  {
   "cell_type": "code",
   "execution_count": null,
   "id": "db91db61",
   "metadata": {},
   "outputs": [],
   "source": [
    "f(pi; nt.a) #만약 f(pi; nt.b)를 입력하면 키워드와 맞지 않아 에러가 난다."
   ]
  },
  {
   "cell_type": "markdown",
   "id": "e15eb760",
   "metadata": {},
   "source": [
    "## Broadcasting\n",
    "Array 단위로 함수 연산을 하는 것은 아래와 같이 반복문을 통해 쉽게 수행할 수 있다."
   ]
  },
  {
   "cell_type": "code",
   "execution_count": null,
   "id": "975568eb",
   "metadata": {},
   "outputs": [],
   "source": [
    "x_vec = [2.0, 4.0, 6.0, 8.0]\n",
    "y_vec = similar(x_vec)\n",
    "for (i, x) in enumerate(x_vec)\n",
    "    y_vec[i] = sin(x)\n",
    "end"
   ]
  },
  {
   "cell_type": "markdown",
   "id": "cbe67d3a",
   "metadata": {},
   "source": [
    "그러나 위에서 잠시 살펴봤듯, `.`을 쓰면 간단하게 array의 원소 각각에 함수를 적용할 수 있다. 이것은 우리가 임의로 만든 함수에도 똑같이 사용 가능하다."
   ]
  },
  {
   "cell_type": "code",
   "execution_count": null,
   "id": "24549bcc",
   "metadata": {},
   "outputs": [],
   "source": [
    "y_vec = sin.(x_vec)"
   ]
  },
  {
   "cell_type": "code",
   "execution_count": null,
   "id": "9e1a7a58",
   "metadata": {},
   "outputs": [],
   "source": [
    "function chisq(k)\n",
    "    @assert k > 0\n",
    "    z = randn(k)\n",
    "    return sum(z -> z^2, z)  # same as `sum(x^2 for x in z)`\n",
    "end"
   ]
  },
  {
   "cell_type": "markdown",
   "id": "c499feee",
   "metadata": {},
   "source": [
    "`@assert`는 입력값 범위를 제한해주는 매크로이다. 이 함수를 array에 적용하면 아래와 같다."
   ]
  },
  {
   "cell_type": "code",
   "execution_count": null,
   "id": "90b68a60",
   "metadata": {},
   "outputs": [],
   "source": [
    "chisq.([2, 4, 6])"
   ]
  },
  {
   "cell_type": "markdown",
   "id": "f33ce534",
   "metadata": {},
   "source": [
    "이 개념을 잘 활용하면 코드를 굉장히 효율적으로 구성할 수 있다."
   ]
  },
  {
   "cell_type": "code",
   "execution_count": null,
   "id": "a056fbaf",
   "metadata": {},
   "outputs": [],
   "source": [
    "x = 1.0:1.0:5.0 \n",
    "y = [2.0, 4.0, 5.0, 6.0, 8.0]\n",
    "z = similar(y)\n",
    "z .= x .+ y .- sin.(x) "
   ]
  },
  {
   "cell_type": "markdown",
   "id": "91419e16",
   "metadata": {},
   "source": [
    "`x`는 python의 `seq(1.0, 5.0, 1.0)`과 동일하다. 위에서 보듯, operator 역시 함수와 같기 때문에 `.`을 활용할 수 있다. 마지막 줄은 아래 매크로로 똑같이 작성할 수 있다."
   ]
  },
  {
   "cell_type": "code",
   "execution_count": null,
   "id": "fcc90efc",
   "metadata": {},
   "outputs": [],
   "source": [
    "@. z = x + y - sin(x)"
   ]
  },
  {
   "cell_type": "markdown",
   "id": "83bac15a",
   "metadata": {},
   "source": [
    "`.`을 사용했을 경우, scalar가 아닌 모든 것에 대해서 broadcasting이 강제로 적용되기 때문에 원하지 않는 부분에 대해서 `Ref()`로 감싸주어야 한다."
   ]
  },
  {
   "cell_type": "code",
   "execution_count": null,
   "id": "45888f24",
   "metadata": {},
   "outputs": [],
   "source": [
    "f(x, y) = [1, 2, 3] ⋅ x + y   # \"⋅\"는 \\cdot<tab>으로 입력\n",
    "@show f([3, 4, 5], 2)  \n",
    "@show f.(Ref([3, 4, 5]), [2, 3]);"
   ]
  },
  {
   "cell_type": "markdown",
   "id": "ce99a998",
   "metadata": {},
   "source": [
    "위의 마지막 줄처럼 두 번째 입력값에 array를 넣고 싶으면 1)`f.`로 broadcasting 명령을 내리고, 2)`Ref()`로 첫 번째 입력값을 반드시 감싸 주어야 오류가 나지 않는다. "
   ]
  },
  {
   "cell_type": "markdown",
   "id": "c4488599",
   "metadata": {},
   "source": [
    "## Closure\n",
    "어떤 함수의 내부에 중첩되어 있으며, 외부 함수 범위(outer scope)에서 정의되는 값을 참조해 동작하는 함수를 closure라고 한다."
   ]
  },
  {
   "cell_type": "code",
   "execution_count": null,
   "id": "c8ccd265",
   "metadata": {},
   "outputs": [],
   "source": [
    "function g(a)\n",
    "    f(x) = a * x^2 \n",
    "    f(1)            \n",
    "end\n",
    "g(0.2)"
   ]
  },
  {
   "cell_type": "markdown",
   "id": "beec3aef",
   "metadata": {},
   "source": [
    "함수 g는 a에 대한 함수이다. 그런데, 이 g 내부에 있는 f 함수는 f의 외부값인 a를 참조해 동작하는 것을 확인할 수 있다. 이때 f 함수를 closure라고 한다.  \n",
    "예시를 더 살펴보자. 이런 구조의 코드는 다소 복잡해 보이지만 유용할 때가 많다."
   ]
  },
  {
   "cell_type": "code",
   "execution_count": null,
   "id": "74251cd1",
   "metadata": {},
   "outputs": [],
   "source": [
    "function multiplyit(a, g)\n",
    "    return x -> a * g(x) # a * g(x)는 closure\n",
    "end\n",
    "\n",
    "f(x) = x^2\n",
    "h = multiplyit(2.0, f) \n",
    "h(2)"
   ]
  },
  {
   "cell_type": "markdown",
   "id": "bf90e35d",
   "metadata": {},
   "source": [
    "아래 두 함수는 동치이다."
   ]
  },
  {
   "cell_type": "code",
   "execution_count": null,
   "id": "59ead8a6",
   "metadata": {},
   "outputs": [],
   "source": [
    "function snapabove(g, a)\n",
    "    function f(x)\n",
    "        if x > a         # f는 closure, 외부값 a를 참조해 동작\n",
    "            return g(x)\n",
    "        else\n",
    "            return g(a)\n",
    "        end\n",
    "    end\n",
    "    return f # 외부 함수의 return 값은 closure가 됨.\n",
    "end\n",
    "\n",
    "f(x) = x^2\n",
    "h = snapabove(f, 2.0)\n",
    "plot(h, 0.0:0.1:3.0)"
   ]
  },
  {
   "cell_type": "code",
   "execution_count": null,
   "id": "537f7337",
   "metadata": {},
   "outputs": [],
   "source": [
    "function snapabove2(g, a)\n",
    "    return x -> x > a ? g(x) : g(a) # closure를 반환\n",
    "end\n",
    "plot(snapabove2(f, 2.0), 0.0:0.1:3.0)"
   ]
  },
  {
   "cell_type": "markdown",
   "id": "63ccf014",
   "metadata": {},
   "source": [
    "# 3. 데이터 타입 II\n",
    "이제 앞에서 배운 데이터 타입에 대해 좀 더 자세하게 알아보자."
   ]
  },
  {
   "cell_type": "markdown",
   "id": "019f2d48",
   "metadata": {},
   "source": [
    "## Arrays\n",
    "array는 기본적으로 column vector로 취급된다. 1d array는 vector, 2d array는 matrix라고 한다. 기본 단위는 항상 column vector이다."
   ]
  },
  {
   "cell_type": "code",
   "execution_count": null,
   "id": "c2b515ce",
   "metadata": {},
   "outputs": [],
   "source": [
    "Array{Int64, 1} == Vector{Int64}\n",
    "Array{Int64, 2} == Matrix{Int64}"
   ]
  },
  {
   "cell_type": "code",
   "execution_count": null,
   "id": "777be72d",
   "metadata": {},
   "outputs": [],
   "source": [
    "a = [1.0, 2.0, 3.0]"
   ]
  },
  {
   "cell_type": "markdown",
   "id": "9bcd891a",
   "metadata": {},
   "source": [
    "array의 형태는 아래 두 함수로 확인할 수 있다."
   ]
  },
  {
   "cell_type": "code",
   "execution_count": null,
   "id": "a8753c47",
   "metadata": {},
   "outputs": [],
   "source": [
    "ndims(a)"
   ]
  },
  {
   "cell_type": "code",
   "execution_count": null,
   "id": "4c0a20f3",
   "metadata": {},
   "outputs": [],
   "source": [
    "size(a)"
   ]
  },
  {
   "cell_type": "markdown",
   "id": "79558af2",
   "metadata": {},
   "source": [
    "array에서 행을 나누는 기준은 `;`이다. `;`를 사용해 다양한 형태의 array들을 만들 수 있다."
   ]
  },
  {
   "cell_type": "code",
   "execution_count": null,
   "id": "951f480a",
   "metadata": {},
   "outputs": [],
   "source": [
    "[1, 2, 3] == [1; 2; 3]  # 둘 다 column vector이다."
   ]
  },
  {
   "cell_type": "code",
   "execution_count": null,
   "id": "c87b8434",
   "metadata": {},
   "outputs": [],
   "source": [
    "a = [10 20 30 40]  # row vector는 2d array이다."
   ]
  },
  {
   "cell_type": "code",
   "execution_count": null,
   "id": "b4c9a60b",
   "metadata": {},
   "outputs": [],
   "source": [
    "a = [10 20; 30 40]  # 2 x 2"
   ]
  },
  {
   "cell_type": "markdown",
   "id": "cdc0cb1e",
   "metadata": {},
   "source": [
    "만약 n x 1의 2d array를 만들고 싶다면 row vector를 transpose하면 된다. 다만 이때 만들어진 것은 일반적인 array와 type이 다르다. 따라서 그냥 array로 만들고 싶다면 한번 더 처리해줘야 한다."
   ]
  },
  {
   "cell_type": "code",
   "execution_count": null,
   "id": "c655d328",
   "metadata": {},
   "outputs": [],
   "source": [
    "a = [10 20 30 40]'"
   ]
  },
  {
   "cell_type": "code",
   "execution_count": null,
   "id": "e828b56b",
   "metadata": {},
   "outputs": [],
   "source": [
    "b = Matrix(a)  \n",
    "c = collect(a) \n",
    "b == c"
   ]
  },
  {
   "cell_type": "markdown",
   "id": "e65bfd82",
   "metadata": {},
   "source": [
    "`;`를 이용해 array의 dimension을 원하는 대로 설정할 수 있다."
   ]
  },
  {
   "cell_type": "code",
   "execution_count": null,
   "id": "cb950bfd",
   "metadata": {},
   "outputs": [],
   "source": [
    "[1; 2;] # vector"
   ]
  },
  {
   "cell_type": "code",
   "execution_count": null,
   "id": "d7ec2875",
   "metadata": {},
   "outputs": [],
   "source": [
    "[1; 2;;] # matrix"
   ]
  },
  {
   "cell_type": "code",
   "execution_count": null,
   "id": "e63cfd99",
   "metadata": {},
   "outputs": [],
   "source": [
    "[1; 2;;;] # 3d array"
   ]
  },
  {
   "cell_type": "code",
   "execution_count": null,
   "id": "0853a284",
   "metadata": {},
   "outputs": [],
   "source": [
    "[1;;] # 단일 원소 matrix"
   ]
  },
  {
   "cell_type": "code",
   "execution_count": null,
   "id": "8f224f58",
   "metadata": {},
   "outputs": [],
   "source": [
    "[1 2; 3 4;;;] # 2 x 2 x 1 array"
   ]
  },
  {
   "cell_type": "markdown",
   "id": "1cd2d847",
   "metadata": {},
   "source": [
    "`reshape()`, `dropdims`로 차원을 조정할 수 있다. `reshape()` 함수의 return값은 `@views`로 취급함에 주의하자. 따라서 b의 원소 값을 바꾸면 a의 원소도 바뀐다."
   ]
  },
  {
   "cell_type": "code",
   "execution_count": null,
   "id": "892cc5d3",
   "metadata": {},
   "outputs": [],
   "source": [
    "a = [10, 20, 30, 40]"
   ]
  },
  {
   "cell_type": "code",
   "execution_count": null,
   "id": "b8b6f333",
   "metadata": {},
   "outputs": [],
   "source": [
    "b = reshape(a, 2, 2)"
   ]
  },
  {
   "cell_type": "code",
   "execution_count": null,
   "id": "bea998c3",
   "metadata": {},
   "outputs": [],
   "source": [
    "b[1, 1] = 100"
   ]
  },
  {
   "cell_type": "code",
   "execution_count": null,
   "id": "4f166ce9",
   "metadata": {},
   "outputs": [],
   "source": [
    "b"
   ]
  },
  {
   "cell_type": "code",
   "execution_count": null,
   "id": "bf2ff288",
   "metadata": {},
   "outputs": [],
   "source": [
    "a"
   ]
  },
  {
   "cell_type": "code",
   "execution_count": null,
   "id": "79c86f82",
   "metadata": {},
   "outputs": [],
   "source": [
    "a = [1 2 3 4]"
   ]
  },
  {
   "cell_type": "code",
   "execution_count": null,
   "id": "403aeb67",
   "metadata": {},
   "outputs": [],
   "source": [
    "dropdims(a, dims = 1)"
   ]
  },
  {
   "cell_type": "markdown",
   "id": "cd85640b",
   "metadata": {},
   "source": [
    "더미 array를 만드는 함수들은 아래와 같다."
   ]
  },
  {
   "cell_type": "code",
   "execution_count": null,
   "id": "b8d0f993",
   "metadata": {},
   "outputs": [],
   "source": [
    "zeros(3) # 0.0으로 채워진 array"
   ]
  },
  {
   "cell_type": "code",
   "execution_count": null,
   "id": "9ab7978c",
   "metadata": {},
   "outputs": [],
   "source": [
    "zeros(2, 2) # 0.0으로 채워진 matrix"
   ]
  },
  {
   "cell_type": "code",
   "execution_count": null,
   "id": "431bd27a",
   "metadata": {},
   "outputs": [],
   "source": [
    "fill(5.0, 2, 2) # 5.0으로 채워진 matrix"
   ]
  },
  {
   "cell_type": "code",
   "execution_count": null,
   "id": "993e9426",
   "metadata": {},
   "outputs": [],
   "source": [
    "x = Array{Float64}(undef, 2, 2) # np.empty()와 같음"
   ]
  },
  {
   "cell_type": "code",
   "execution_count": null,
   "id": "8dcd49f8",
   "metadata": {},
   "outputs": [],
   "source": [
    "fill(0, 2, 2)  # 0으로 채워진 matrix"
   ]
  },
  {
   "cell_type": "code",
   "execution_count": null,
   "id": "8bc7acd1",
   "metadata": {},
   "outputs": [],
   "source": [
    "fill(false, 2, 2)  # boolean matrix"
   ]
  },
  {
   "cell_type": "markdown",
   "id": "2414ee49",
   "metadata": {},
   "source": [
    "기존 데이터를 복사하려면 `copy()`를 쓴다."
   ]
  },
  {
   "cell_type": "code",
   "execution_count": null,
   "id": "a0411f27",
   "metadata": {},
   "outputs": [],
   "source": [
    "x = [1, 2, 3]\n",
    "y = copy(x)\n",
    "y[1] = 2\n",
    "x"
   ]
  },
  {
   "cell_type": "markdown",
   "id": "27b499fa",
   "metadata": {},
   "source": [
    "기존 데이터와 데이터 타입만 같은 array를 생성하려면 `similar()`를 쓰면 된다."
   ]
  },
  {
   "cell_type": "code",
   "execution_count": null,
   "id": "c8bd973b",
   "metadata": {},
   "outputs": [],
   "source": [
    "x = [1, 2, 3]\n",
    "y = similar(x)\n",
    "y"
   ]
  },
  {
   "cell_type": "code",
   "execution_count": null,
   "id": "43dd3152",
   "metadata": {},
   "outputs": [],
   "source": [
    "x = [1, 2, 3]\n",
    "y = similar(x, 4)  # int type의 길이 4인 vector"
   ]
  },
  {
   "cell_type": "code",
   "execution_count": null,
   "id": "af9f3689",
   "metadata": {},
   "outputs": [],
   "source": [
    "x = [1, 2, 3]\n",
    "y = similar(x, 2, 2)  # int type의 2 x 2 matrix"
   ]
  },
  {
   "cell_type": "markdown",
   "id": "5d3b8536",
   "metadata": {},
   "source": [
    "### Indexing and Slicing\n",
    "Array 인덱싱, 슬라이싱의 예를 조금 더 살펴보자. 우리가 이미 아는 것과 별반 다르지는 않다."
   ]
  },
  {
   "cell_type": "code",
   "execution_count": null,
   "id": "704277d3",
   "metadata": {},
   "outputs": [],
   "source": [
    "a = randn(2, 2)\n",
    "b = [true false; false true]"
   ]
  },
  {
   "cell_type": "code",
   "execution_count": null,
   "id": "d46d3c11",
   "metadata": {},
   "outputs": [],
   "source": [
    "@show a[1, 1]\n",
    "@show a[1, :] \n",
    "@show a[:, 1]\n",
    "@show a[b];"
   ]
  },
  {
   "cell_type": "code",
   "execution_count": null,
   "id": "12356d5d",
   "metadata": {},
   "outputs": [],
   "source": [
    "a = zeros(4)"
   ]
  },
  {
   "cell_type": "code",
   "execution_count": null,
   "id": "4e34bcae",
   "metadata": {},
   "outputs": [],
   "source": [
    "a[2:end] .= 42 # .= 으로 broadcasting이 필요"
   ]
  },
  {
   "cell_type": "code",
   "execution_count": null,
   "id": "b0c3e466",
   "metadata": {},
   "outputs": [],
   "source": [
    "a"
   ]
  },
  {
   "cell_type": "code",
   "execution_count": null,
   "id": "b31b3c9a",
   "metadata": {},
   "outputs": [],
   "source": [
    "a = [1 2; 3 4]\n",
    "b = a[:, 2]\n",
    "@show b\n",
    "a[:, 2] = [4, 5] # modify a\n",
    "@show a\n",
    "@show b;"
   ]
  },
  {
   "cell_type": "markdown",
   "id": "29da40d5",
   "metadata": {},
   "source": [
    "`@views` 매크로를 통해 a의 값을 슬라이싱할 때 값을 따로 저장하지 않고 바로 베껴올 수 있다. 이때 `b`와 `@views b`의 타입이 다름에 주의하자."
   ]
  },
  {
   "cell_type": "code",
   "execution_count": null,
   "id": "5321fa02",
   "metadata": {},
   "outputs": [],
   "source": [
    "a = [1 2; 3 4]\n",
    "@views b = a[:, 2]\n",
    "@show b\n",
    "a[:, 2] = [4, 5]\n",
    "@show a\n",
    "@show b;"
   ]
  },
  {
   "cell_type": "markdown",
   "id": "56b81d3d",
   "metadata": {},
   "source": [
    "### Some other features\n",
    "1. Julia에서는 adjoint처럼 특수한 타입을 일반적인 matrix와 같게 취급하지 않고 따로 기억한다. 이런 특성 덕분에 더 효율적인 연산이 가능하다."
   ]
  },
  {
   "cell_type": "code",
   "execution_count": null,
   "id": "1db1a1e5",
   "metadata": {},
   "outputs": [],
   "source": [
    "d = [1.0, 2.0]\n",
    "a = Diagonal(d)"
   ]
  },
  {
   "cell_type": "code",
   "execution_count": null,
   "id": "d4f8b551",
   "metadata": {},
   "outputs": [],
   "source": [
    "@show 2a\n",
    "b = rand(2,2)\n",
    "@show b * a;"
   ]
  },
  {
   "cell_type": "code",
   "execution_count": null,
   "id": "3a3992c5",
   "metadata": {},
   "outputs": [],
   "source": [
    "b = [1.0 2.0; 3.0 4.0]\n",
    "b - I "
   ]
  },
  {
   "cell_type": "code",
   "execution_count": null,
   "id": "e3433df9",
   "metadata": {},
   "outputs": [],
   "source": [
    "typeof(I)"
   ]
  },
  {
   "cell_type": "markdown",
   "id": "8a21e029",
   "metadata": {},
   "source": [
    "2. assignment: `a = b` 와 `a .= b`는 단순히 a와 b가 같다는 의미(name bind) / mutable a에 b의 값을 assign해주는 의미로 서로 다르다."
   ]
  },
  {
   "cell_type": "code",
   "execution_count": null,
   "id": "e2022dd3",
   "metadata": {},
   "outputs": [],
   "source": [
    "x = [1 2 3]\n",
    "y = x        \n",
    "z = [2 3 4]\n",
    "y = z      # y = x -> y = z로 bind만 바꿈.\n",
    "@show (x, y, z);"
   ]
  },
  {
   "cell_type": "code",
   "execution_count": null,
   "id": "4d1f0044",
   "metadata": {},
   "outputs": [],
   "source": [
    "x = [1 2 3]\n",
    "y = x      \n",
    "z = [2 3 4]\n",
    "y .= z      # y의 값을 바꾸면 y = x bind에 의해 x 값도 바뀜.\n",
    "@show (x, y, z);"
   ]
  },
  {
   "cell_type": "markdown",
   "id": "8ea42e29",
   "metadata": {},
   "source": [
    "scalar는 immutable이어서 assignment가 불가능하다."
   ]
  },
  {
   "cell_type": "code",
   "execution_count": null,
   "id": "08c04e6d",
   "metadata": {},
   "outputs": [],
   "source": [
    "y = [1 2]\n",
    "y .-= 2    # y .= y .- 2\n",
    "\n",
    "x = 5\n",
    "# x .-= 2  # fails!\n",
    "x = x - 2  # 새로운 값을 생성해 x를 다시 bind하는 것으로 조금 다르다."
   ]
  },
  {
   "cell_type": "markdown",
   "id": "7b9fc0a1",
   "metadata": {},
   "source": [
    "tuple, static array 등의 타입도 immutable로 assignment가 불가능하다."
   ]
  },
  {
   "cell_type": "code",
   "execution_count": null,
   "id": "64aa482f",
   "metadata": {},
   "outputs": [],
   "source": [
    "using StaticArrays\n",
    "xdynamic = [1, 2]\n",
    "xstatic = @SVector [1, 2]  # tuple과 유사한 성질의 array이다.\n",
    "\n",
    "f(x) = 2x\n",
    "@show f(xdynamic)\n",
    "@show f(xstatic)\n",
    "\n",
    "# inplace version\n",
    "function g(x)\n",
    "    x .= 2x\n",
    "    return \"Success!\"\n",
    "end\n",
    "@show xdynamic\n",
    "@show g(xdynamic)\n",
    "@show xdynamic;\n",
    "\n",
    "# g(xstatic) # fails!"
   ]
  },
  {
   "cell_type": "markdown",
   "id": "470a5c7a",
   "metadata": {},
   "source": [
    "### Operations\n",
    "몇 가지 유용한 method들과 연산에 대해 좀 더 알아보자."
   ]
  },
  {
   "cell_type": "code",
   "execution_count": null,
   "id": "6b696c66",
   "metadata": {},
   "outputs": [],
   "source": [
    "a = [-1, 0, 1]\n",
    "\n",
    "@show length(a)\n",
    "@show sum(a)\n",
    "@show mean(a)\n",
    "@show std(a)      # standard deviation\n",
    "@show var(a)      # variance\n",
    "@show maximum(a)\n",
    "@show minimum(a)\n",
    "@show extrema(a)  # (mimimum(a), maximum(a))"
   ]
  },
  {
   "cell_type": "code",
   "execution_count": null,
   "id": "e1ce5b7f",
   "metadata": {},
   "outputs": [],
   "source": [
    "b = sort(a, rev = true)"
   ]
  },
  {
   "cell_type": "code",
   "execution_count": null,
   "id": "0d5dce69",
   "metadata": {},
   "outputs": [],
   "source": [
    "b = sort!(a, rev = true) # inplace = True"
   ]
  },
  {
   "cell_type": "code",
   "execution_count": null,
   "id": "bc23d992",
   "metadata": {},
   "outputs": [],
   "source": [
    "b == a # same values?"
   ]
  },
  {
   "cell_type": "code",
   "execution_count": null,
   "id": "d899a2dc",
   "metadata": {},
   "outputs": [],
   "source": [
    "b === a # identical? (same values + stored in same memory)"
   ]
  },
  {
   "cell_type": "markdown",
   "id": "b2a5aa8f",
   "metadata": {},
   "source": [
    "`*`는 matrix multiplication을 의미한다."
   ]
  },
  {
   "cell_type": "code",
   "execution_count": null,
   "id": "31814ea2",
   "metadata": {},
   "outputs": [],
   "source": [
    "a = ones(1, 2)"
   ]
  },
  {
   "cell_type": "code",
   "execution_count": null,
   "id": "6ca6a7ed",
   "metadata": {},
   "outputs": [],
   "source": [
    "b = ones(2, 2)"
   ]
  },
  {
   "cell_type": "code",
   "execution_count": null,
   "id": "48fa2dc8",
   "metadata": {},
   "outputs": [],
   "source": [
    "a * b"
   ]
  },
  {
   "cell_type": "code",
   "execution_count": null,
   "id": "8ca5b907",
   "metadata": {},
   "outputs": [],
   "source": [
    "b * a'"
   ]
  },
  {
   "cell_type": "code",
   "execution_count": null,
   "id": "402a6dd5",
   "metadata": {},
   "outputs": [],
   "source": [
    "b = ones(2, 2)\n",
    "b * ones(2)"
   ]
  },
  {
   "cell_type": "code",
   "execution_count": null,
   "id": "97dfbc28",
   "metadata": {},
   "outputs": [],
   "source": [
    "ones(2)' * b"
   ]
  },
  {
   "cell_type": "markdown",
   "id": "5ddc3c49",
   "metadata": {},
   "source": [
    "선형 방정식 $ A X = B $를 풀려면 `A \\ B`를 쓰면 된다."
   ]
  },
  {
   "cell_type": "code",
   "execution_count": null,
   "id": "8008e6fc",
   "metadata": {},
   "outputs": [],
   "source": [
    "A = [1 2; 2 3]; B = ones(2, 2);"
   ]
  },
  {
   "cell_type": "code",
   "execution_count": null,
   "id": "0b585660",
   "metadata": {},
   "outputs": [],
   "source": [
    "A \\ B == inv(A) * B"
   ]
  },
  {
   "cell_type": "markdown",
   "id": "4b722e69",
   "metadata": {},
   "source": [
    "행렬식, 대각합, 고유값, 랭크도 편리하게 구할 수 있다."
   ]
  },
  {
   "cell_type": "code",
   "execution_count": null,
   "id": "0a27efc6",
   "metadata": {},
   "outputs": [],
   "source": [
    "A = [1 2; 3 4]"
   ]
  },
  {
   "cell_type": "code",
   "execution_count": null,
   "id": "e3b6420e",
   "metadata": {},
   "outputs": [],
   "source": [
    "det(A)"
   ]
  },
  {
   "cell_type": "code",
   "execution_count": null,
   "id": "c71f54ab",
   "metadata": {},
   "outputs": [],
   "source": [
    "tr(A)"
   ]
  },
  {
   "cell_type": "code",
   "execution_count": null,
   "id": "299953d5",
   "metadata": {},
   "outputs": [],
   "source": [
    "eigvals(A)"
   ]
  },
  {
   "cell_type": "code",
   "execution_count": null,
   "id": "d22ee845",
   "metadata": {},
   "outputs": [],
   "source": [
    "rank(A)"
   ]
  },
  {
   "cell_type": "markdown",
   "id": "43544157",
   "metadata": {},
   "source": [
    "내적은 `dot()`나 `\\cdot<TAB>`을 통해서 가능하다."
   ]
  },
  {
   "cell_type": "code",
   "execution_count": null,
   "id": "20a898b1",
   "metadata": {},
   "outputs": [],
   "source": [
    "@show ones(2)' * ones(2)\n",
    "@show dot(ones(2), ones(2))\n",
    "@show ones(2) ⋅ ones(2);"
   ]
  },
  {
   "cell_type": "markdown",
   "id": "3b4af558",
   "metadata": {},
   "source": [
    "Julia가 기존과 가장 다른 점 중 하나는 위에서도 이미 언급했듯 `.`을 사용한 elementwise operation이다."
   ]
  },
  {
   "cell_type": "code",
   "execution_count": null,
   "id": "71a55fde",
   "metadata": {},
   "outputs": [],
   "source": [
    "ones(2, 2) * ones(2, 2)"
   ]
  },
  {
   "cell_type": "code",
   "execution_count": null,
   "id": "1d0d96f1",
   "metadata": {},
   "outputs": [],
   "source": [
    "ones(2, 2) .* ones(2, 2)"
   ]
  },
  {
   "cell_type": "code",
   "execution_count": null,
   "id": "7eb2cc7c",
   "metadata": {},
   "outputs": [],
   "source": [
    "A = -ones(2, 2)"
   ]
  },
  {
   "cell_type": "code",
   "execution_count": null,
   "id": "0c48d018",
   "metadata": {},
   "outputs": [],
   "source": [
    "A.^2"
   ]
  },
  {
   "cell_type": "code",
   "execution_count": null,
   "id": "03857225",
   "metadata": {},
   "outputs": [],
   "source": [
    "x = [1, 2]\n",
    "x .+ 1     # not x + 1\n",
    "x .- 1     # not x - 1"
   ]
  },
  {
   "cell_type": "markdown",
   "id": "e880232b",
   "metadata": {},
   "source": [
    "값 비교 역시 동일하게 가능하다."
   ]
  },
  {
   "cell_type": "code",
   "execution_count": null,
   "id": "d0f72b38",
   "metadata": {},
   "outputs": [],
   "source": [
    "a = [10, 20, 30]"
   ]
  },
  {
   "cell_type": "code",
   "execution_count": null,
   "id": "3bd1e574",
   "metadata": {},
   "outputs": [],
   "source": [
    "b = [-100, 0, 100]"
   ]
  },
  {
   "cell_type": "code",
   "execution_count": null,
   "id": "5407f357",
   "metadata": {},
   "outputs": [],
   "source": [
    "b .> a"
   ]
  },
  {
   "cell_type": "code",
   "execution_count": null,
   "id": "0c84dbd6",
   "metadata": {},
   "outputs": [],
   "source": [
    "a .== b"
   ]
  },
  {
   "cell_type": "code",
   "execution_count": null,
   "id": "d2dacfce",
   "metadata": {},
   "outputs": [],
   "source": [
    "b .> 1"
   ]
  },
  {
   "cell_type": "code",
   "execution_count": null,
   "id": "5b51a3ad",
   "metadata": {},
   "outputs": [],
   "source": [
    "a = randn(4)"
   ]
  },
  {
   "cell_type": "code",
   "execution_count": null,
   "id": "f21b2f1d",
   "metadata": {},
   "outputs": [],
   "source": [
    "a[a .< 0]"
   ]
  },
  {
   "cell_type": "code",
   "execution_count": null,
   "id": "fe57e4cb",
   "metadata": {},
   "outputs": [],
   "source": [
    "a = [10, 20, 30, 40]"
   ]
  },
  {
   "cell_type": "markdown",
   "id": "44d524d1",
   "metadata": {},
   "source": [
    "## Ranges\n",
    "벡터와 동일한 성질을 가진다."
   ]
  },
  {
   "cell_type": "code",
   "execution_count": null,
   "id": "48005d2d",
   "metadata": {},
   "outputs": [],
   "source": [
    "a = 10:12        # 10:1:12 = 10, 11, 12\n",
    "@show Vector(a)  # 바꿀 순 있지만 바꿀 이유가 없다.\n",
    "\n",
    "b = Diagonal([1.0, 2.0, 3.0])\n",
    "b * a .- [1.0; 2.0; 3.0]"
   ]
  },
  {
   "cell_type": "code",
   "execution_count": null,
   "id": "93c35d29",
   "metadata": {},
   "outputs": [],
   "source": [
    "a = 0.0:0.1:1.0 # 0.0, 0.1, ... , 1.0"
   ]
  },
  {
   "cell_type": "code",
   "execution_count": null,
   "id": "3070a94b",
   "metadata": {},
   "outputs": [],
   "source": [
    "maxval = 1.0\n",
    "minval = 0.0\n",
    "stepsize = 0.15\n",
    "a = minval:stepsize:maxval # 0.0, 0.15, 0.3, ... 이 경우에 0.9에서 끊어짐.\n",
    "maximum(a) == maxval"
   ]
  },
  {
   "cell_type": "markdown",
   "id": "4feb8e67",
   "metadata": {},
   "source": [
    "아래처럼 `np.linspace()`와 동일하게 사용할 수 있다."
   ]
  },
  {
   "cell_type": "code",
   "execution_count": null,
   "id": "35b906ec",
   "metadata": {},
   "outputs": [],
   "source": [
    "maxval = 1.0\n",
    "minval = 0.0\n",
    "numpoints = 10\n",
    "a = range(minval, maxval, length=numpoints)\n",
    "# or range(minval, stop=maxval, length=numpoints)\n",
    "\n",
    "maximum(a) == maxval"
   ]
  },
  {
   "cell_type": "markdown",
   "id": "76cce605",
   "metadata": {},
   "source": [
    "## Tuples and Named Tuples\n",
    "Immutable이지만 array보다 더 빠르다."
   ]
  },
  {
   "cell_type": "code",
   "execution_count": null,
   "id": "0c18154c",
   "metadata": {},
   "outputs": [],
   "source": [
    "t = (1.0, \"test\")\n",
    "t[1]            # index로 접근\n",
    "a, b = t        # unpack\n",
    "# t[1] = 3.0    # fails!\n",
    "println(\"a = $a and b = $b\")"
   ]
  },
  {
   "cell_type": "code",
   "execution_count": null,
   "id": "465676ec",
   "metadata": {},
   "outputs": [],
   "source": [
    "t = (;val1 = 1.0, val2 = \"test\")\n",
    "t.val1      # name으로 접근\n",
    "println(\"val1 = $(t.val1) and val2 = $(t.val2)\") \n",
    "(;val1, val2) = t  # unpacking notation (note the ;)\n",
    "println(\"val1 = $val1 and val2 = $val2\")"
   ]
  },
  {
   "cell_type": "code",
   "execution_count": null,
   "id": "eeafcbf9",
   "metadata": {},
   "outputs": [],
   "source": [
    "t2 = (;val3 = 4, val4 = \"test!!\")\n",
    "t3 = merge(t, t2)  # new tuple"
   ]
  },
  {
   "cell_type": "markdown",
   "id": "d20e167e",
   "metadata": {},
   "source": [
    "named tuple은 많은 parameter들을 가진 함수를 만들 때 편리하다."
   ]
  },
  {
   "cell_type": "code",
   "execution_count": null,
   "id": "d57a5727",
   "metadata": {},
   "outputs": [],
   "source": [
    "function f(parameters)\n",
    "    (;α, β) = parameters\n",
    "    return α + β\n",
    "end\n",
    "\n",
    "parameters = (;α = 0.1, β = 0.2)\n",
    "f(parameters)"
   ]
  },
  {
   "cell_type": "code",
   "execution_count": null,
   "id": "bfadd8a8",
   "metadata": {},
   "outputs": [],
   "source": [
    "using Parameters\n",
    "paramgen = @with_kw (α = 0.1, β = 0.2)  # default값을 가진 named tuple을 생성\n",
    "\n",
    "@show paramgen() \n",
    "@show paramgen(α = 0.2)\n",
    "@show paramgen(α = 0.2, β = 0.5);"
   ]
  },
  {
   "cell_type": "code",
   "execution_count": null,
   "id": "b6432889",
   "metadata": {},
   "outputs": [],
   "source": [
    "function paramgen2(;α = 0.1, β = 0.2)\n",
    "    return (;α, β)\n",
    "end\n",
    "@show paramgen2()\n",
    "@show paramgen2(;α = 0.2);"
   ]
  },
  {
   "cell_type": "markdown",
   "id": "f0c3da9d",
   "metadata": {},
   "source": [
    "## Nothing, Missing\n",
    "개념적으로 각각 값이 아예 필요없을 때, 결측치일 때를 의미한다고 보면 좋다. 고유의 type을 가진다."
   ]
  },
  {
   "cell_type": "code",
   "execution_count": null,
   "id": "711a1e09",
   "metadata": {},
   "outputs": [],
   "source": [
    "typeof(nothing)"
   ]
  },
  {
   "cell_type": "markdown",
   "id": "0678183b",
   "metadata": {},
   "source": [
    "보통 함수에서 $x \\notin \\mathcal{D}$ 일때 많이 사용하게 된다."
   ]
  },
  {
   "cell_type": "code",
   "execution_count": null,
   "id": "7c8731eb",
   "metadata": {},
   "outputs": [],
   "source": [
    "function f(y)\n",
    "    x = nothing\n",
    "    if y > 0.0\n",
    "        x = y\n",
    "    end\n",
    "\n",
    "    if isnothing(x)\n",
    "        println(\"x was not set\")\n",
    "    else\n",
    "        println(\"x = $x\")\n",
    "    end\n",
    "    x\n",
    "end\n",
    "\n",
    "@show f(1.0)\n",
    "@show f(-1.0);"
   ]
  },
  {
   "cell_type": "markdown",
   "id": "6382b6b8",
   "metadata": {},
   "source": [
    "다음과 같이 `ifelse`와 유사한 형태로 함수를 만들 수도 있다."
   ]
  },
  {
   "cell_type": "code",
   "execution_count": null,
   "id": "6e453c4f",
   "metadata": {},
   "outputs": [],
   "source": [
    "function f(x)\n",
    "    x > 0.0 ? sqrt(x) : nothing  # the \"a ? b : c\" pattern is the ternary\n",
    "end\n",
    "\n",
    "f(1.0)"
   ]
  },
  {
   "cell_type": "code",
   "execution_count": null,
   "id": "fad1ec4f",
   "metadata": {},
   "outputs": [],
   "source": [
    "x = [0.1, -1.0, 2.0, -2.0]\n",
    "y = f.(x)"
   ]
  },
  {
   "cell_type": "markdown",
   "id": "b67586a8",
   "metadata": {},
   "source": [
    "이때 return type은 union이라는 새로운 type임을 확인할 수 있다. 이런 domain check 상황에서는 `@assert`를 사용해도 좋다. 다만 이 경우 fail시에 에러가 발생한다는 단점이 있다."
   ]
  },
  {
   "cell_type": "code",
   "execution_count": null,
   "id": "c3099041",
   "metadata": {},
   "outputs": [],
   "source": [
    "function f(x)\n",
    "    @assert x > 0.0\n",
    "    sqrt(x)\n",
    "end\n",
    "\n",
    "f(-1.0)"
   ]
  },
  {
   "cell_type": "markdown",
   "id": "c614be37",
   "metadata": {},
   "source": [
    "error를 다루는 또다른 방법으로 `try`와 `catch`가 있다. `catch`로 에러를 잡아낸 다음 `err end`를 입력하면 알 수 있는 에러의 종류를 프린트해 준다. 그 에러가 예상할 수 있는 것이라면 적절한 조치를 취해줄 수도 있다. "
   ]
  },
  {
   "cell_type": "code",
   "execution_count": null,
   "id": "48641f29",
   "metadata": {},
   "outputs": [],
   "source": [
    "try sqrt(-1.0); catch err; err end"
   ]
  },
  {
   "cell_type": "code",
   "execution_count": null,
   "id": "50371eb0",
   "metadata": {},
   "outputs": [],
   "source": [
    "function f(x)\n",
    "    try\n",
    "        sqrt(x)\n",
    "    catch err              \n",
    "        sqrt(complex(x, 0)) \n",
    "    end\n",
    "end\n",
    "\n",
    "f(0.0)\n",
    "f(-1.0)"
   ]
  },
  {
   "cell_type": "markdown",
   "id": "5d4694ff",
   "metadata": {},
   "source": [
    "마지막으로 missing을 살펴보자. 위에서 언급했듯 R의 NA에 대응된다고 생각하면 된다."
   ]
  },
  {
   "cell_type": "code",
   "execution_count": null,
   "id": "8e3d72a6",
   "metadata": {},
   "outputs": [],
   "source": [
    "typeof(missing)"
   ]
  },
  {
   "cell_type": "code",
   "execution_count": null,
   "id": "561fd13e",
   "metadata": {},
   "outputs": [],
   "source": [
    "x = [3.0, missing, 5.0, missing, missing]"
   ]
  },
  {
   "cell_type": "markdown",
   "id": "d2cd5fbd",
   "metadata": {},
   "source": [
    "missing은 nothing과 달리 함수에 집어넣을 수 있다. 다만 값은 missing이다."
   ]
  },
  {
   "cell_type": "code",
   "execution_count": null,
   "id": "16cd86c6",
   "metadata": {},
   "outputs": [],
   "source": [
    "f(x) = x^2\n",
    "\n",
    "@show missing + 1.0\n",
    "@show missing * 2\n",
    "@show missing * \"test\"\n",
    "@show f(missing);      \n",
    "@show mean(x);\n",
    "@show x == missing # 같은 missing과 비교해도 missing이 나온다.\n",
    "@show ismissing(x);"
   ]
  },
  {
   "cell_type": "markdown",
   "id": "95d65ce6",
   "metadata": {},
   "source": [
    "missing을 무시하거나 없애고 싶다면 아래처럼 하면 된다."
   ]
  },
  {
   "cell_type": "code",
   "execution_count": null,
   "id": "733a43a8",
   "metadata": {},
   "outputs": [],
   "source": [
    "@show mean(skipmissing(x))\n",
    "@show coalesce.(x, 0.0);  # replace missing with 0.0;"
   ]
  },
  {
   "cell_type": "markdown",
   "id": "8f6673f7",
   "metadata": {},
   "source": [
    "# 4. 연습문제들\n",
    "솔루션은 맨 밑에 있습니다."
   ]
  },
  {
   "cell_type": "markdown",
   "id": "83fd2b42",
   "metadata": {},
   "source": [
    "### Exercise 1\n",
    "$X \\sim B(n,p)$를 generate하는 함수 `binomial_rv(n, p)` 를 $U(0,1)$에서 random number를 generate하는 함수인 `rand()`만을 사용해 작성하세요."
   ]
  },
  {
   "cell_type": "code",
   "execution_count": null,
   "id": "9bad0efd",
   "metadata": {},
   "outputs": [],
   "source": [
    "# your solution\n"
   ]
  },
  {
   "cell_type": "markdown",
   "id": "3381aff5",
   "metadata": {},
   "source": [
    "### Exercise 2\n",
    "\n",
    "몬테카를로 시뮬레이션을 활용해 $ \\pi $의 값을 추정하는 코드를 작성하세요. 단 random number를 이용할 때 `rand()`만을 사용하세요.\n",
    "\n",
    "힌트는 다음과 같습니다:\n",
    "\n",
    "- $ U $ 가 unit square $ (0, 1)^2 $ 영역의 bivariate uniform random variable일 때,  $ U $가 $(0,1)^2$의 부분집합  $ B $ 위의 점이 될 확률은 $B$의 넓이와 같습니다.\n",
    "- $ U_1,\\ldots,U_n \\overset{iid}{\\sim}U $라고 할 때, $ n $이 커질수록 $ \\left\\{U_n\\right\\} $이 $ B $ 위의 점으로 나타난 비율은 $ U $가 $ B $ 위의 점이 될 확률로 수렴합니다.  \n",
    "- 원의 넓이는 $πr^2$ 입니다.  \n",
    "\n",
    "\n",
    "\n",
    "<a id='jbe-ex4'></a>"
   ]
  },
  {
   "cell_type": "code",
   "execution_count": null,
   "id": "4e4f6699",
   "metadata": {},
   "outputs": [],
   "source": [
    "# your solution\n"
   ]
  },
  {
   "cell_type": "markdown",
   "id": "192b040d",
   "metadata": {},
   "source": [
    "### Exercise 3\n",
    "\n",
    "아래의 데이터는 미국 도시의 인구 수입니다. 이것을 txt파일로 만들고 저장하는 코드는 아래와 같습니다."
   ]
  },
  {
   "cell_type": "code",
   "execution_count": null,
   "id": "45a35d3b",
   "metadata": {},
   "outputs": [],
   "source": [
    "pwd() # current working directory"
   ]
  },
  {
   "cell_type": "code",
   "execution_count": null,
   "id": "8dc6d80b",
   "metadata": {},
   "outputs": [],
   "source": [
    "open(\"us_cities.txt\", \"w\") do f\n",
    "  write(f,\n",
    "\"new york: 8244910\n",
    "los angeles: 3819702\n",
    "chicago: 2707120\n",
    "houston: 2145146\n",
    "philadelphia: 1536471\n",
    "phoenix: 1469471\n",
    "san antonio: 1359758\n",
    "san diego: 1326179\n",
    "dallas: 1223229\")\n",
    "end"
   ]
  },
  {
   "cell_type": "markdown",
   "id": "bd00ffd9",
   "metadata": {},
   "source": [
    "이 파일을 읽어와서 합을 구하는 코드를 작성하세요.\n",
    "\n",
    "hint:\n",
    "- `eachline(f)` 를 통해 파일 한줄한줄에 iterable로 접근할 수 있습니다. ex) `for line in eachline(f)`  \n",
    "- `parse(Int, \"100\")` 함수로 `\"100\"`을 정수로 바꿀 수 있습니다.\n",
    "- Python과 매우 유사합니다!"
   ]
  },
  {
   "cell_type": "code",
   "execution_count": null,
   "id": "07133be3",
   "metadata": {},
   "outputs": [],
   "source": [
    "# your solution\n"
   ]
  },
  {
   "cell_type": "markdown",
   "id": "c1b68523",
   "metadata": {},
   "source": [
    "### Exercise 4\n",
    "\n",
    "다음의 stochastic differential equation이 있습니다. 행렬 계산 연습용이므로 배경지식은 무시하셔도 좋습니다.\n",
    "\n",
    "<a id='equation-ja-sde'></a>\n",
    "$$\n",
    "X_{t+1} = A X_t + b + \\Sigma W_{t+1} \\tag{4.1}\n",
    "$$\n",
    "\n",
    "- $ X_t, b $ and $ X_{t+1} $ are $ n \\times 1 $  \n",
    "- $ A $ is $ n \\times n $  \n",
    "- $ \\Sigma $ is $ n \\times k $  \n",
    "- $ W_t $ is $ k \\times 1 $ and $ \\{W_t\\} $ is iid with zero mean and variance-covariance matrix equal to the identity matrix  \n",
    "\n",
    "\n",
    "$ n \\times n $행렬 $ S_t $를 $ X_t $의 공분산행렬로 정의합시다.\n",
    "\n",
    "$ \\{S_t\\} $에 의해 다음 시점의 공분산행렬 $\\{S_{t+1}\\}$은 다음과 같이 정의됩니다.\n",
    "\n",
    "<a id='equation-ja-sde-v'></a>\n",
    "$$\n",
    "S_{t+1} = A S_t A' + \\Sigma \\Sigma' \\tag{4.2}\n",
    "$$\n",
    "\n",
    "A의 eigenvalue가 모두 unit circle 안에 속하면(여기에서는 신경쓸 필요가 없습니다), $ \\{S_t\\} $는 유일한 극한값 $S$로 수렴하게 됩니다. 이론적인 값으로 아래의 (4.3)이 주어져 있습니다.\n",
    "\n",
    "위의 (4.2)와 맨 아래 주어진 실제 행렬 값을 활용해  $S$를 추정하는 함수 `compute_aymptotic_var`를 만들어 주세요.\n",
    "\n",
    "반복을 이어가다 값이 `1e-6`이내로 변할 때, 즉 수렴할 때 반복을 멈추면 됩니다. 마지막으로 (4.3)값과 우리가 수렴시킨 값을 비교해 보세요.\n",
    "\n",
    "\n",
    "<a id='equation-ja-dle'></a>\n",
    "$$\n",
    "S = A S A' + Q\n",
    "\\quad \\text{where} \\quad Q := \\Sigma \\Sigma' \\tag{4.3}\n",
    "$$  \n",
    "  \n",
    "$$\n",
    "A =\n",
    "\\begin{bmatrix}\n",
    "    0.8 & -0.2  \\\\\n",
    "    -0.1 & 0.7\n",
    "\\end{bmatrix}\n",
    "\\qquad\n",
    "\\Sigma =\n",
    "\\begin{bmatrix}\n",
    "    0.5 & 0.4 \\\\\n",
    "    0.4 & 0.6\n",
    "\\end{bmatrix}\n",
    "$$"
   ]
  },
  {
   "cell_type": "code",
   "execution_count": null,
   "id": "0f7cc0f2",
   "metadata": {},
   "outputs": [],
   "source": [
    "# your solution\n"
   ]
  },
  {
   "cell_type": "markdown",
   "id": "45e63fd2",
   "metadata": {},
   "source": [
    "# solutions\n",
    "먼저 안 보고 20분만 고민해 보기!"
   ]
  },
  {
   "cell_type": "markdown",
   "id": "9412066e",
   "metadata": {},
   "source": [
    "## exercise 1"
   ]
  },
  {
   "cell_type": "code",
   "execution_count": null,
   "id": "82840f35",
   "metadata": {},
   "outputs": [],
   "source": [
    "function binomial_rv(n, p)\n",
    "    U = rand(n)\n",
    "    return sum(U .< p)\n",
    "end"
   ]
  },
  {
   "cell_type": "markdown",
   "id": "314092eb",
   "metadata": {},
   "source": [
    "## exercise 2\n",
    "자세한 설명은 https://bigdata-doctrine.tistory.com/15 참고"
   ]
  },
  {
   "cell_type": "code",
   "execution_count": null,
   "id": "1ff05684",
   "metadata": {},
   "outputs": [],
   "source": [
    "n = 1000000\n",
    "U = rand(n,2)\n",
    "circle = 0\n",
    "for i in 1:n\n",
    "    if U[i,1]^2 + U[i,2]^2 <= 1\n",
    "        circle += 1\n",
    "    end\n",
    "end\n",
    "circlearea = circle/n\n",
    "pi = 4*circlearea"
   ]
  },
  {
   "cell_type": "markdown",
   "id": "6ab5fcd4",
   "metadata": {},
   "source": [
    "## exercise 3"
   ]
  },
  {
   "cell_type": "code",
   "execution_count": null,
   "id": "1bf2a0b9",
   "metadata": {},
   "outputs": [],
   "source": [
    "f_ex = open(\"us_cities.txt\", \"r\")\n",
    "total_pop = 0\n",
    "for line in eachline(f_ex)\n",
    "    city, population = split(line, ':')  # tuple unpacking\n",
    "    total_pop += parse(Int, population)\n",
    "end\n",
    "close(f_ex)\n",
    "println(\"Total population = $total_pop\")"
   ]
  },
  {
   "cell_type": "markdown",
   "id": "a7b6e615",
   "metadata": {},
   "source": [
    "## exercise 4"
   ]
  },
  {
   "cell_type": "code",
   "execution_count": null,
   "id": "ae5433c7",
   "metadata": {},
   "outputs": [],
   "source": [
    "function compute_asymptotic_var(A, Σ;\n",
    "                                S0 = Σ * Σ',\n",
    "                                tolerance = 1e-6,\n",
    "                                maxiter = 500)\n",
    "    V = Σ * Σ'\n",
    "    S = S0\n",
    "    err = tolerance + 1\n",
    "    i = 1\n",
    "    while err > tolerance && i ≤ maxiter\n",
    "        next_S = A * S * A' + V\n",
    "        err = norm(S - next_S)\n",
    "        S = next_S\n",
    "        i += 1\n",
    "    end\n",
    "    return S\n",
    "end"
   ]
  },
  {
   "cell_type": "code",
   "execution_count": null,
   "id": "10477304",
   "metadata": {},
   "outputs": [],
   "source": [
    "A = [0.8  -0.2;\n",
    "     -0.1  0.7]\n",
    "\n",
    "Σ = [0.5 0.4;\n",
    "     0.4 0.6]"
   ]
  },
  {
   "cell_type": "code",
   "execution_count": null,
   "id": "dd6dc61c",
   "metadata": {},
   "outputs": [],
   "source": [
    "our_solution = compute_asymptotic_var(A, Σ)"
   ]
  },
  {
   "cell_type": "markdown",
   "id": "45a65a7a",
   "metadata": {},
   "source": [
    "# 5. Convex.jl\n",
    "교재 저자인 Stephan Boyd 교수가 matlab 기반으로 만든 패키지인데, 누군가 그것을 줄리아로 번역해 놓았다. 이름 그대로 convex optimization 문제를  편리하게 formulation하고 풀 수 있는 패키지이다. Python 버전인 CVXPY도 있다."
   ]
  },
  {
   "cell_type": "markdown",
   "id": "6ed0214c",
   "metadata": {},
   "source": [
    "## 설치"
   ]
  },
  {
   "cell_type": "code",
   "execution_count": null,
   "id": "1adb6869",
   "metadata": {},
   "outputs": [],
   "source": [
    "] add Convex"
   ]
  },
  {
   "cell_type": "code",
   "execution_count": null,
   "id": "72b43da7",
   "metadata": {},
   "outputs": [],
   "source": [
    "] add ECOS # numerical solver"
   ]
  },
  {
   "cell_type": "code",
   "execution_count": null,
   "id": "da2e67e1",
   "metadata": {},
   "outputs": [],
   "source": [
    "] add SCS # numerical solver"
   ]
  },
  {
   "cell_type": "code",
   "execution_count": null,
   "id": "bd094963",
   "metadata": {},
   "outputs": [],
   "source": [
    "using Convex, SCS"
   ]
  },
  {
   "cell_type": "markdown",
   "id": "b814cd19",
   "metadata": {},
   "source": [
    "## Variable\n",
    "문제를 풀어서 optimum을 찾고 싶은 변수를 뜻한다."
   ]
  },
  {
   "cell_type": "code",
   "execution_count": null,
   "id": "14ff0e68",
   "metadata": {},
   "outputs": [],
   "source": [
    "# Scalar variable\n",
    "x = Variable()\n",
    "\n",
    "# Column vector variable\n",
    "x = Variable(5)\n",
    "\n",
    "# Matrix variable\n",
    "x = Variable(4, 6)"
   ]
  },
  {
   "cell_type": "markdown",
   "id": "bf2df2b0",
   "metadata": {},
   "source": [
    "Variable들은 아래 예시처럼 어떤 특성과 함께 선언될 수 있다.   \n",
    "- (entrywise) positive: `x = Variable(4, Positive())`  \n",
    "- (entrywise) negative: `x = Variable(4, Negative())`  \n",
    "- integral: `x = Variable(4, IntVar)`  \n",
    "- binary: `x = Variable(4, BinVar)`  \n",
    "- (for a matrix) being symmetric, with nonnegative eigenvalues (ie, positive semidefinite): `z = Semidefinite(4)`\n",
    "\n",
    "순서는 size, sign, Convex.VarType (i.e., integer, binary, or continuous) 순이며 필요없으면 생략해도 된다. variable x의 현재 값은`evaluate(x)`로 확인할 수 있다. 문제를 풀면 x의 값은 optimal이 될 것이다."
   ]
  },
  {
   "cell_type": "markdown",
   "id": "91d3fe8d",
   "metadata": {},
   "source": [
    "## Expressions\n",
    "variable에 연산을 수행한 것을 expression이라고 한다."
   ]
  },
  {
   "cell_type": "code",
   "execution_count": null,
   "id": "51afbe3a",
   "metadata": {},
   "outputs": [],
   "source": [
    "x = Variable(5)\n",
    "# The following are all expressions\n",
    "y = sum(x)\n",
    "z = 4 * x + y\n",
    "z_1 = z[1]"
   ]
  },
  {
   "cell_type": "markdown",
   "id": "9001a042",
   "metadata": {},
   "source": [
    "Convex 패키지로 문제를 푸는 기본 구조는 다음과 같이 variable과 expression, problem을 정의하고 `solve!`로 푸는 것이다."
   ]
  },
  {
   "cell_type": "markdown",
   "id": "567e9920",
   "metadata": {},
   "source": [
    "## Constants\n",
    "expression 안의 variable을 제외한 숫자, 벡터, 행렬들을 의미한다."
   ]
  },
  {
   "cell_type": "code",
   "execution_count": null,
   "id": "0424160d",
   "metadata": {},
   "outputs": [],
   "source": [
    "x = Variable()\n",
    "y = Variable()\n",
    "z = Variable()\n",
    "expr = x + y + z\n",
    "problem = minimize(expr, x >= 1, y >= x, 4 * z >= y)\n",
    "solve!(problem, SCS.Optimizer)\n",
    "\n",
    "# Once the problem is solved, we can call evaluate() on expr:\n",
    "evaluate(expr)"
   ]
  },
  {
   "cell_type": "markdown",
   "id": "16a27571",
   "metadata": {},
   "source": [
    "## Constrains\n",
    "부등식 꼴로 정의되며, strict한 경우(등호가 없는 경우)와 아닌 경우가 구분되지 않는다."
   ]
  },
  {
   "cell_type": "code",
   "execution_count": null,
   "id": "34c1816c",
   "metadata": {},
   "outputs": [],
   "source": [
    "x = Variable(5, 5)\n",
    "# Equality constraint\n",
    "constraint = x == 0\n",
    "# Inequality constraint\n",
    "constraint = x >= 1"
   ]
  },
  {
   "cell_type": "code",
   "execution_count": null,
   "id": "e78f4651",
   "metadata": {},
   "outputs": [],
   "source": [
    "x = Variable(3, 3)\n",
    "y = Variable(3, 1)\n",
    "z = Variable()\n",
    "# constrain [x y; y' z] to be positive semidefinite\n",
    "constraint = ([x y; y' z] in :SDP)\n",
    "# or equivalently,\n",
    "constraint = ([x y; y' z] ⪰ 0)"
   ]
  },
  {
   "cell_type": "markdown",
   "id": "02074c1c",
   "metadata": {},
   "source": [
    "아래처럼 variable을 construct한 다음 constraint를 추가하면, x를 사용하는 모든 문제에 자동으로 implicit constraint가 추가된다."
   ]
  },
  {
   "cell_type": "code",
   "execution_count": null,
   "id": "e787e0ea",
   "metadata": {},
   "outputs": [],
   "source": [
    "x = Variable(3)\n",
    "add_constraint!(x, sum(x) == 1)"
   ]
  },
  {
   "cell_type": "markdown",
   "id": "682d17c2",
   "metadata": {},
   "source": [
    "## Objective\n",
    "Objective는 목적 함수로 `maximize` 나 `minimize`에 묶인 expression을 뜻한다. Feasibility problem은 constant를 objective로 설정하거나,   `problem = satisfy(constraints)`로 표현 가능하다."
   ]
  },
  {
   "cell_type": "markdown",
   "id": "bac9d2e8",
   "metadata": {},
   "source": [
    "## Problem\n",
    "Problem은 sense (minimize, maximize, or satisfy), objective, constraints로 구성된다."
   ]
  },
  {
   "cell_type": "code",
   "execution_count": null,
   "id": "0c05acc6",
   "metadata": {},
   "outputs": [],
   "source": [
    "problem = minimize(objective, constraints)\n",
    "# or\n",
    "problem = maximize(objective, constraints)\n",
    "# or\n",
    "problem = satisfy(constraints)"
   ]
  },
  {
   "cell_type": "markdown",
   "id": "63f29887",
   "metadata": {},
   "source": [
    "Constraints를 정의한 후 문제에 추가할 수 있다."
   ]
  },
  {
   "cell_type": "code",
   "execution_count": null,
   "id": "f2348296",
   "metadata": {},
   "outputs": [],
   "source": [
    "# No constraints given\n",
    "problem = minimize(objective)\n",
    "# Add some constraint\n",
    "problem.constraints += constraint\n",
    "# Add many more constraints\n",
    "problem.constraints += [constraint1, constraint2, ...]"
   ]
  },
  {
   "cell_type": "markdown",
   "id": "38e71fbc",
   "metadata": {},
   "source": [
    "정의된 문제는 solve!를 통해 풀 수 있다. 문제가 solve된 뒤, `problem.status`가 문제의 status를 분류한다. 분류 목록은 `:Optimal`, `:Infeasible`, `:Unbounded`, `:Indeterminate`, `:Error`가 있다. 만약 `:Optimal`이면 `problem.optval`에 optimum value가 기록된다. `evaluate()`를 통해 variable의 optimum, objective의 optimum을 둘 다 확인할 수 있다."
   ]
  },
  {
   "cell_type": "code",
   "execution_count": null,
   "id": "816a5719",
   "metadata": {},
   "outputs": [],
   "source": [
    "solve!(problem, solver)"
   ]
  },
  {
   "cell_type": "markdown",
   "id": "8821bdb3",
   "metadata": {},
   "source": [
    "## Example\n",
    "다음 least squares problem을 풀어 보자.  \n",
    "$$ minimize\\,\\, \\lVert Ax-b \\rVert_2^2$$  \n",
    "$$ subject\\,to\\,\\,x \\succeq 0 $$  \n",
    "이떄 variable $x \\in \\mathbb{R}^n $, 데이터 $A \\in \\mathbb{R}^{m \\times n}$, $b \\in \\mathbb{R}^m $이다.  \n",
    "이 문제를 Convex 패키지를 이용해 푸는 코드는 아래와 같다."
   ]
  },
  {
   "cell_type": "code",
   "execution_count": null,
   "id": "3fa4205d",
   "metadata": {},
   "outputs": [],
   "source": [
    "# Generate random problem data\n",
    "m = 4;  n = 5\n",
    "A = randn(m, n); b = randn(m, 1)\n",
    "\n",
    "# Create a (column vector) variable of size n x 1.\n",
    "x = Variable(n)\n",
    "\n",
    "# The problem is to minimize ||Ax - b||^2 subject to x >= 0\n",
    "# This can be done by: minimize(objective, constraints)\n",
    "problem = minimize(sumsquares(A * x - b), [x >= 0])\n",
    "\n",
    "# Solve the problem by calling solve!\n",
    "solve!(problem, SCS.Optimizer; silent_solver = true)\n",
    "\n",
    "# Check the status of the problem\n",
    "@show problem.status # :Optimal, :Infeasible, :Unbounded etc.\n",
    "\n",
    "# Get the optimum value\n",
    "@show problem.optval;"
   ]
  },
  {
   "cell_type": "markdown",
   "id": "1b15507a",
   "metadata": {},
   "source": [
    "수고하셨습니다!"
   ]
  }
 ],
 "metadata": {
  "kernelspec": {
   "display_name": "Julia 1.8.5",
   "language": "julia",
   "name": "julia-1.8"
  },
  "language_info": {
   "file_extension": ".jl",
   "mimetype": "application/julia",
   "name": "julia",
   "version": "1.8.5"
  }
 },
 "nbformat": 4,
 "nbformat_minor": 5
}
